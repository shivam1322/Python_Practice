{
 "cells": [
  {
   "cell_type": "code",
   "execution_count": 1,
   "metadata": {},
   "outputs": [
    {
     "name": "stdout",
     "output_type": "stream",
     "text": [
      "59\n"
     ]
    }
   ],
   "source": [
    "A=[ 1000727, 1000727, 1000641, 1000517, 1000212, 1000532, 1000727, 1001000, 1000254, 1000106, 1000405, 1000100, 1000736, \n",
    "   1000727, 1000727, 1000787, 1000105, 1000713, 1000727, 1000333, 1000069, 1000727, 1000877, 1000222, 1000727, 1000505,\n",
    "   1000641, 1000533, 1000727, 1000727, 1000727, 1000508, 1000475, 1000727, 1000573, 1000727, 1000618, 1000727, 1000309, \n",
    "   1000486, 1000792, 1000727, 1000727, 1000426, 1000547, 1000727, 1000972, 1000575, 1000303, 1000727, 1000533, 1000669,\n",
    "   1000489, 1000727, 1000329, 1000727, 1000050, 1000209, 1000109 ]\n",
    "print(len(A))"
   ]
  },
  {
   "cell_type": "code",
   "execution_count": 2,
   "metadata": {},
   "outputs": [
    {
     "data": {
      "text/plain": [
       "20"
      ]
     },
     "execution_count": 2,
     "metadata": {},
     "output_type": "execute_result"
    }
   ],
   "source": [
    "A.count(1000727)"
   ]
  },
  {
   "cell_type": "code",
   "execution_count": null,
   "metadata": {},
   "outputs": [],
   "source": [
    "# N/3 Repeat Number\n",
    "# Problem Description\n",
    "# You're given a read-only array of N integers. Find out if any integer occurs more than N/3 times in the array in linear \n",
    "# time and constant additional space.\n",
    "# If so, return the integer. If not, return -1.\n",
    "# If there are multiple solutions, return any one.\n",
    "# Problem Constraints\n",
    "# 1 <= N <= 7*105\n",
    "# 1 <= A[i] <= 109\n",
    "# Input Format\n",
    "# The only argument is an integer array A.\n",
    "# Output Format\n",
    "# Return an integer.\n",
    "# Example Input\n",
    "# [1 2 3 1 1]\n",
    "# Example Output\n",
    "# 1\n",
    "# Example Explanation\n",
    "# 1 occurs 3 times which is more than 5/3 times."
   ]
  },
  {
   "cell_type": "code",
   "execution_count": null,
   "metadata": {},
   "outputs": [],
   "source": [
    "class Solution:\n",
    "    # @param A : tuple of integers\n",
    "    # @return an integer\n",
    "    def repeatedNumber(self, A):\n",
    "        ME1=None #majority object\n",
    "        freq1=0\n",
    "        ME2=None\n",
    "        freq2=0\n",
    "        ans=-1\n",
    "        count1=0\n",
    "        count2=0\n",
    "        n=len(A)\n",
    "        for i in range(len(A)):\n",
    "#remember this condition is important(A[i]!=ME2) ME1 and ME2 should be different else there may be a situation \n",
    "#when ME1 and ME2 both assigned to same value and we start removing 2 same elements \n",
    "#Below TC would fail in such scenarios where at one point of time ME1=727 and ME2=727 and code is proceeding \n",
    "# further -->so it will eventually fail\n",
    "            if ME1==None and A[i]!=ME2:\n",
    "                ME1=A[i]\n",
    "                freq1=1    \n",
    "\n",
    "            elif A[i]==ME1:\n",
    "                freq1+=1\n",
    "\n",
    "            elif ME2==None and A[i]!=ME1:\n",
    "                ME2=A[i]\n",
    "                freq2=1 \n",
    "\n",
    "            elif A[i]==ME2:\n",
    "                freq2+=1\n",
    "\n",
    "            else:\n",
    "                freq1-=1\n",
    "                freq2-=1              \n",
    "                if freq1==0:\n",
    "                    ME1=None\n",
    "                if freq2==0:\n",
    "                    ME2=None\n",
    "                    \n",
    "        for i in range(len(A)):\n",
    "            if A[i]==ME1 and ME1!=None:\n",
    "                count1+=1\n",
    "            if A[i]==ME2 and ME2!=None:\n",
    "                count2+=1\n",
    "\n",
    "        if count1>(n//3):\n",
    "            ans=ME1\n",
    "        elif count2>(n//3):\n",
    "            ans=ME2\n",
    "\n",
    "        return ans\n",
    "\n",
    "        \n",
    "# It is important to note that if at a given time, you have 3 distinct element from the array,\n",
    "#  if you remove them from the array, your answer does not change.\n",
    "# When we encounter a new element, there are 3 cases possible :\n",
    "# We don’t have 2 elements yet. So add this to the list with count as 1.\n",
    "# This element is different from the existing 2 elements. As we said before, we have 3 distinct numbers now. \n",
    "# Removing them does not change the answer. So decrement 1 from count of 2 existing elements. If their count falls\n",
    "#  to 0,obviously its not a part of 2 elements anymore.\n",
    "# The new element is same as one of the 2 elements. Increment the count of that element.\n"
   ]
  },
  {
   "cell_type": "code",
   "execution_count": null,
   "metadata": {},
   "outputs": [],
   "source": [
    "# Majority Element\n",
    "# Problem Description\n",
    "# Given an array of size N, find the majority element. The majority element is the element that appears more than floor(n/2) \n",
    "# times.You may assume that the array is non-empty and the majority element always exists in the array.\n",
    "\n",
    "# Problem Constraints\n",
    "# 1 <= N <= 5*105\n",
    "# 1 <= num[i] <= 109\n",
    "# Input Format\n",
    "# Only argument is an integer array.\n",
    "# Output Format\n",
    "# Return an integer.\n",
    "\n",
    "# Example Input\n",
    "# [2, 1, 2]\n",
    "\n",
    "# Example Output\n",
    "# 2\n",
    "\n",
    "# Example Explanation\n",
    "# 2 occurs 2 times which is greater than 3/2."
   ]
  },
  {
   "cell_type": "code",
   "execution_count": null,
   "metadata": {},
   "outputs": [],
   "source": [
    "class Solution:\n",
    "    # @param A : tuple of integers\n",
    "    # @return an integer\n",
    "    def majorityElement(self, A):\n",
    "        ME=None\n",
    "        freq=0\n",
    "        n=len(A)\n",
    "        for i in range(len(A)):\n",
    "            if ME==None:\n",
    "                ME=A[i]\n",
    "                freq=1\n",
    "\n",
    "            elif A[i]==ME:\n",
    "                freq+=1\n",
    "\n",
    "            else:\n",
    "                freq-=1\n",
    "                if freq==0:\n",
    "                    ME=None\n",
    "\n",
    "        return ME\n",
    "\n",
    "        #Below part would be needed if there is a condition that ME may not exist too \n",
    "        #     count=0\n",
    "        #     ans=-1\n",
    "        #     for i in range(len(A)):\n",
    "        #         if A[i]==ME:\n",
    "        #             count+=1\n",
    "            \n",
    "        #     if count>n//2:\n",
    "        #         ans=ME\n",
    "        #     else:\n",
    "        #         ans=-1\n",
    "            \n",
    "        # return ans"
   ]
  },
  {
   "cell_type": "code",
   "execution_count": null,
   "metadata": {},
   "outputs": [],
   "source": [
    "# Monkeys and Doors\n",
    "# There are 100 doors, all closed. In a nearby cage are 100 monkeys.\n",
    "# The first monkey is let out and runs along the doors opening every one. The second monkey is then let out and runs \n",
    "# along the doors closing the 2nd, 4th, 6th,… - all the even-numbered doors. The third monkey is let out. He attends only to the 3rd, 6th, 9th,… doors (every third door, in other words), closing any that is open and opening any that is closed, and so on. After all 100 monkeys have done their work in this way, what state are the doors in after the last pass?\n",
    "# Answer with the number of open doors.\n",
    "# Answer is an integer. Just put the number without any decimal places if it's an integer. If the answer is Infinity,\n",
    "# output Infinity."
   ]
  },
  {
   "cell_type": "code",
   "execution_count": null,
   "metadata": {},
   "outputs": [],
   "source": [
    "10[Perfect squares have odd numbers]"
   ]
  },
  {
   "cell_type": "code",
   "execution_count": null,
   "metadata": {},
   "outputs": [],
   "source": [
    "# 100 People in a Circle\n",
    "# One hundred people are standing in a circle in an order 1 to 100.\n",
    "# No.1 has a sword. He kills the next person (i.e., no. 2) and gives the sword to the next (i.e., no. 3). All person does \n",
    "# the same until only one survives.\n",
    "# Which number survives at last?\n",
    "# Answer is an integer. Just put the number without any decimal places if it's an integer. \n",
    "# If the answer is Infinity, output Infinity."
   ]
  },
  {
   "cell_type": "code",
   "execution_count": null,
   "metadata": {},
   "outputs": [],
   "source": [
    "N=100\n",
    "closest power of 2--> 2**6-->64\n",
    "k=N-num==36 people died\n",
    "so, now sword is with (k+1)th odd number\n",
    "1 ,3 ,5 ,7 ,9,....\n",
    "1+(37-1)*2==73\n",
    "\n",
    "\n",
    "\n",
    "# Round 1 : 1, 3, 5, 7, 9, 11, 13, 15, 17, 19, 21, 23, 25, 27, 29, 31, 33, 35, 37, 39, 41, 43, 45, 47, 49, 51, 53, 55, 57, 59, 61,\n",
    "#     63, 65, 67, 69, 71, 73, 75, 77, 79, 81, 83, 85, 87, 89, 91, 93, 95, 97, 99\n",
    "# Round 2: 1, 5, 9, 13, 17, 21, 25, 29, 33, 37, 41, 45, 49, 53, 57, 61, 65, 69, 73, 77, 81, 85, 89, 93, 97\n",
    "# Round 3: 1, 9, 17, 25, 33, 41, 49, 57, 65, 73, 81, 89, 97\n",
    "# Round 4: 9, 25, 41, 57, 73, 89\n",
    "# Round 5: 9, 41, 73\n",
    "# Round 6: 9, 73\n",
    "# Round 7: 73\n"
   ]
  },
  {
   "cell_type": "code",
   "execution_count": null,
   "metadata": {},
   "outputs": [],
   "source": [
    "# Find nth Magic Number\n",
    "# Problem Description\n",
    "# Given an integer A, find and return the Ath magic number.\n",
    "# A magic number is defined as a number that can be expressed as a power of 5 or a sum of unique powers of 5.\n",
    "# First few magic numbers are 5, 25, 30(5 + 25), 125, 130(125 + 5), ….\n",
    "\n",
    "# Problem Constraints\n",
    "# 1 <= A <= 5000\n",
    "# Input Format\n",
    "# The only argument given is integer A.\n",
    "\n",
    "# Output Format\n",
    "# Return the Ath magic number.\n",
    "# Example Input\n",
    "# Example Input 1:\n",
    "#  A = 3\n",
    "# Example Input 2:\n",
    "#  A = 10\n",
    "\n",
    "# Example Output\n",
    "# Example Output 1:\n",
    "#  30\n",
    "# Example Output 2:\n",
    "#  650\n",
    "\n",
    "# Example Explanation\n",
    "# Explanation 1:\n",
    "#  Magic Numbers in increasing order are [5, 25, 30, 125, 130, ...]\n",
    "#  3rd element in this is 30\n",
    "# Explanation 2:\n",
    "#  In the sequence shown in explanation 1, 10th element will be 650."
   ]
  },
  {
   "cell_type": "code",
   "execution_count": null,
   "metadata": {},
   "outputs": [],
   "source": [
    "class Solution:\n",
    "    # @param A : integer\n",
    "    # @return an integer\n",
    "    def solve(self, A):\n",
    "        binA=bin(A)[2:]\n",
    "        count=1\n",
    "        sum=0\n",
    "        for i in binA[::-1]:\n",
    "            sum+=int(i)*(5**count)\n",
    "            count+=1\n",
    "        return sum"
   ]
  },
  {
   "cell_type": "code",
   "execution_count": null,
   "metadata": {},
   "outputs": [],
   "source": [
    "# Color of the last ball\n",
    "# You have 20 blue balls and 14 red balls in a bag. You put your hand in and remove 2 at a time.\n",
    "# If they’re of the same color, you add a blue ball to the bag.\n",
    "# If they’re of different colors, you add a red ball to the bag.\n",
    "# ( Assume you have a big supply of blue & red balls for this purpose).\n",
    "# Note: When you take the two balls out, you don’t put them back in, so the number of balls in the bag keeps decreasing.\n",
    "# What will be the color of the last ball left in the bag?"
   ]
  },
  {
   "cell_type": "code",
   "execution_count": null,
   "metadata": {},
   "outputs": [],
   "source": [
    "There are three possible cases of removing the two balls.\n",
    "a) If we take off 1 RED and 1 BLUE, we actually will take off 1 BLUE.\n",
    "b)If we take off 2 RED, we actually will take off 2 RED (and add 1 BLUE).\n",
    "c) If we take off 2 BLUE, we actually will take off 1 BLUE.\n",
    "So In the case of (a) or (c), we are only removing one blue ball, but we always take off red balls two by two.\n",
    "\n",
    "If there are 14 (even) red balls, we can not have one red ball left in the bag so that the last ball will be blue."
   ]
  },
  {
   "cell_type": "code",
   "execution_count": null,
   "metadata": {},
   "outputs": [],
   "source": [
    "# Color of the last ball II\n",
    "# You have 20 blue balls and 13 red balls in a bag. You put your hand in and remove two at a time.\n",
    "# If they’re of the same color, you add a blue ball to the bag.\n",
    "# If they’re of different colors, you add a red ball to the bag.\n",
    "# Assume you have an enormous supply of blue & red balls for this purpose.\n",
    "# Note: When you take the two balls out, you don’t put them back in, so the number of balls in the bag keeps decreasing.\n",
    "# What will be the color of the last ball left in the bag?"
   ]
  },
  {
   "cell_type": "code",
   "execution_count": null,
   "metadata": {},
   "outputs": [],
   "source": [
    "There are three possible cases of removing the two balls.\n",
    "a) If we take off 1 RED and 1 BLUE, we actually will take off 1 BLUE.\n",
    "b)If we take off 2 RED, we actually will take off 2 RED (and add 1 BLUE).\n",
    "c) If we take off 2 BLUE, we actually will take off 1 BLUE.\n",
    "So In case of (a) or (c), we are only removing one blue ball, but we always take off red balls two by two.\n",
    "\n",
    "Now as the no. of red balls is odd, there will be one single red ball in the bag with other blue balls, and whenever we\n",
    "remove 1 red and 1 blue ball, we end up taking off only the blue ball. So the red ball will be the last ball in the bag."
   ]
  },
  {
   "cell_type": "code",
   "execution_count": null,
   "metadata": {},
   "outputs": [],
   "source": [
    "# Ratio of Boys and Girls\n",
    "# In a country where everyone wants a boy, each family continues having babies till they have a boy.\n",
    "# After a long time, what is the proportion of boys to girls in the country? (Assuming probability of having a boy or a \n",
    "# girl is the same)\n",
    "# Round off your answer to two decimal places and output the answer as I.xx where I is the integer part of your answer, \n",
    "# and xx is the first two decimal places of the rounded-off answer."
   ]
  },
  {
   "cell_type": "code",
   "execution_count": null,
   "metadata": {},
   "outputs": [],
   "source": [
    "Assumptions: Probability of having a boy or girl is same. Also, the probability of next kid being a boy doesn’t depend \n",
    "on history.\n",
    "The problem can be solved by counting expected number of girls before a baby boy is born.\n",
    "\n",
    "Let NG be the expected no. of girls before a boy is born\n",
    "\n",
    "Let p be the probability that a child is girl and (1-p)\n",
    "be probability that a child is boy.\n",
    "\n",
    "NG can be written as sum of following infinite series.\n",
    "\n",
    "NG = 0*(1-p) + 1*p*(1-p) + 2*p*p*(1-p) + 3*p*p*p*(1-p) + 4*p*p*p*p*(1-p) +.....\n",
    "\n",
    "Putting p = 1/2 and (1-p) = 1/2 in above formula.\n",
    "\n",
    "NG    = 0*(1/2) + 1*(1/2)2 + 2*(1/2)3 + 3*(1/2)4  +  4*(1/2)5 + ...\n",
    "1/2*NG = 0*(1/2)2 + 1*(1/2)3 + 2*(1/2)4 + 3*(1/2)5  +  4*(1/2)6 + ...\n",
    "\n",
    "NG - NG/2 =  1*(1/2)2 + 1*(1/2)3 + 1*(1/2)4 + 1*(1/2)5  +  1*(1/2)6 + ...\n",
    "\n",
    "Using sum formula of infinite geometrical progression with\n",
    "ratio less than 1\n",
    "NG/2 = (1/4)/(1-1/2) = 1/2\n",
    "\n",
    "NG = 1\n",
    "\n",
    "So Expected Number of number of girls = 1\n",
    "\n",
    "Since the expected number of girls is 1 and there is always a baby boy, the expected ratio of boys and girls is 50:50\n",
    "\n",
    "\n",
    "\n",
    "# Assume there are C number of couples, so there would be C boys. The number of girls can be calculated by the following method.\n",
    "\n",
    "# \tNumber of girls = 0*(Probability of 0 girls) + 1*(Probability of 1 girl) + 2*(Probability of 2 girls) + …\n",
    "# \tNumber of girls = 0*(C*1/2) + 1*(C*1/2*1/2) + 2*(C*1/2*1/2*1/2) + …\n",
    "# \tNumber of girls = 0 + C/4 + 2*C/8 + 3*C/16 + …\n",
    "# \tNumber of girls = C\n",
    "# \t(using mathematical formulas; it becomes apparent if you sum up the first 4-5 terms)\n",
    "# The proportion of boys to girls is 1 : 1.\n",
    "# As such, the answer would be 1.00"
   ]
  },
  {
   "cell_type": "code",
   "execution_count": null,
   "metadata": {},
   "outputs": [],
   "source": [
    "# Spider's Web\n",
    "# A spider is trying to build a web for itself. The web built by it doubles every day.\n",
    "# If the spider entirely built the web in 15 days, how many days did it take for the spider to build 25% of the web?\n",
    "# Answer is an integer. Just put the number without any decimal places if it's an integer. If the answer is Infinity,\n",
    "# output Infinity."
   ]
  },
  {
   "cell_type": "code",
   "execution_count": null,
   "metadata": {},
   "outputs": [],
   "source": [
    "Given that Spider doubles its work every day let’s figure out the amount of work done till the 14th day \n",
    "( a day before 15 days ).\n",
    "Let’s say the work done till the 14th day is X. Spider doubled the work done till the 14th on 15th.\n",
    "On day 15th, Spider did X more work.\n",
    "We know that 2X = 100% work.\n",
    "Which means X = 50% work.\n",
    "The Spider built 50% of the web till the 14th day.\n",
    "If you extend it, the Spider did 25% of the work till the 13th day."
   ]
  }
 ],
 "metadata": {
  "kernelspec": {
   "display_name": "Python 3",
   "language": "python",
   "name": "python3"
  },
  "language_info": {
   "codemirror_mode": {
    "name": "ipython",
    "version": 3
   },
   "file_extension": ".py",
   "mimetype": "text/x-python",
   "name": "python",
   "nbconvert_exporter": "python",
   "pygments_lexer": "ipython3",
   "version": "3.8.5"
  }
 },
 "nbformat": 4,
 "nbformat_minor": 4
}
