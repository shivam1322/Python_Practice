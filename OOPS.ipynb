{
 "cells": [
  {
   "cell_type": "code",
   "execution_count": null,
   "metadata": {},
   "outputs": [],
   "source": [
    "# Temperature conversion\n",
    "# Create a Temprature class. Make two methods :\n",
    "# 1. convertFahrenheit - It will take celsius and will print it into Fahrenheit.\n",
    "# 2. convertCelsius - It will take Fahrenheit and will convert it into Celsius.\n",
    "\n",
    "# The input expected has no unit, it will just be an integer whereas the output has to have a unit either celsius or\n",
    "# Fahrenheit.\n",
    "# Sample output:\n",
    "# 37.22 degree celsius\n",
    "# 210.2 degree fahrenheit\n",
    "# the numerical value here shown are just random but you have to know that the answers are made using round \n",
    "# function upto 2 decimal places."
   ]
  },
  {
   "cell_type": "code",
   "execution_count": null,
   "metadata": {},
   "outputs": [],
   "source": [
    "def tempconversion(t):\n",
    "    \n",
    "    class Temperature:\n",
    "        # YOUR CODE GOES HERE\n",
    "        def __init__(self,t):\n",
    "            self.t=t\n",
    "        def convertcelsius(self):\n",
    "            print( round(((self.t-32)*(5/9)),2),'degree celsius')\n",
    "            \n",
    "        def convertfahrenheit(self):\n",
    "            print(round((self.t*(9/5)+32),2),'degree fahrenheit')\n",
    "        \n",
    "    temp=Temperature(t)\n",
    "    temp.convertcelsius()\n",
    "    temp.convertfahrenheit()"
   ]
  },
  {
   "cell_type": "code",
   "execution_count": 2,
   "metadata": {},
   "outputs": [
    {
     "name": "stdout",
     "output_type": "stream",
     "text": [
      "10 3 13 16 29\n"
     ]
    }
   ],
   "source": [
    "# Class Output\n",
    "# What will the output of the following code snippet?\n",
    "class Demo: \n",
    "\n",
    "   def __init__(self, x): \n",
    "\n",
    "       self.x = x \n",
    "\n",
    "   def display(self, x): \n",
    "\n",
    "       print(x, self.x, end = \" \") \n",
    "\n",
    "       x = x + self.x \n",
    "\n",
    "       self.x = x + self.x \n",
    "\n",
    "       print(x, self.x, x + self.x) \n",
    "\n",
    "obj = Demo(3) \n",
    "\n",
    "obj.display(10)"
   ]
  },
  {
   "cell_type": "code",
   "execution_count": 3,
   "metadata": {},
   "outputs": [
    {
     "name": "stdout",
     "output_type": "stream",
     "text": [
      "lose win\n"
     ]
    }
   ],
   "source": [
    "# Calling Class Method.\n",
    "# What will be the output of the following code?\n",
    "\n",
    "class Football:\n",
    "  final_res = \"lose\"\n",
    "  def __init__(self, name, score):\n",
    "    self.name = name\n",
    "    self.score = score\n",
    "    self.final_res = \"lose\"\n",
    "  def calc(self, winning_score):\n",
    "    if self.score > winning_score:\n",
    "       self.final_res = \"win\"\n",
    "\n",
    "match = Football(\"Juventus\", 3)\n",
    "match.calc(2)\n",
    "print(Football.final_res, match.final_res)"
   ]
  },
  {
   "cell_type": "code",
   "execution_count": 4,
   "metadata": {},
   "outputs": [
    {
     "name": "stdout",
     "output_type": "stream",
     "text": [
      "Christian Bale | Ben Affleck | Robert Pattinson\n"
     ]
    }
   ],
   "source": [
    "# Class Output - III\n",
    "# What will be the output of the following code snippet?\n",
    "\n",
    "class Batman:\n",
    "  fn = \"Ben\"\n",
    "  ln = \"Affleck\"\n",
    "\n",
    "  def instance_method(self):\n",
    "    self.fn = \"Christian\"\n",
    "    self.ln = \"Bale\"\n",
    "    print(self.fn, self.ln, end = \" | \")\n",
    "\n",
    "  @classmethod\n",
    "  def class_method(cls):\n",
    "    print(cls.fn, cls.ln, end = \" | \")\n",
    "    cls.fn = \"Robert\"\n",
    "    cls.ln = \"Pattinson\"\n",
    "\n",
    "  @staticmethod\n",
    "  def static_method():\n",
    "    print(Batman.fn, Batman.ln)\n",
    "\n",
    "batman = Batman()\n",
    "batman.instance_method()\n",
    "Batman.class_method()\n",
    "Batman.static_method()"
   ]
  },
  {
   "cell_type": "code",
   "execution_count": 5,
   "metadata": {},
   "outputs": [
    {
     "ename": "TypeError",
     "evalue": "__init__() missing 1 required positional argument: 'a'",
     "output_type": "error",
     "traceback": [
      "\u001b[1;31m---------------------------------------------------------------------------\u001b[0m",
      "\u001b[1;31mTypeError\u001b[0m                                 Traceback (most recent call last)",
      "\u001b[1;32m<ipython-input-5-c11f79df78d6>\u001b[0m in \u001b[0;36m<module>\u001b[1;34m\u001b[0m\n\u001b[0;32m      7\u001b[0m     \u001b[1;32mdef\u001b[0m \u001b[0mdisplay\u001b[0m\u001b[1;33m(\u001b[0m\u001b[0mself\u001b[0m\u001b[1;33m)\u001b[0m\u001b[1;33m:\u001b[0m\u001b[1;33m\u001b[0m\u001b[1;33m\u001b[0m\u001b[0m\n\u001b[0;32m      8\u001b[0m         \u001b[0mprint\u001b[0m\u001b[1;33m(\u001b[0m\u001b[0mself\u001b[0m\u001b[1;33m.\u001b[0m\u001b[0ma\u001b[0m\u001b[1;33m)\u001b[0m\u001b[1;33m\u001b[0m\u001b[1;33m\u001b[0m\u001b[0m\n\u001b[1;32m----> 9\u001b[1;33m \u001b[0mobj\u001b[0m\u001b[1;33m=\u001b[0m\u001b[0mtest\u001b[0m\u001b[1;33m(\u001b[0m\u001b[1;33m)\u001b[0m\u001b[1;33m\u001b[0m\u001b[1;33m\u001b[0m\u001b[0m\n\u001b[0m\u001b[0;32m     10\u001b[0m \u001b[0mobj\u001b[0m\u001b[1;33m.\u001b[0m\u001b[0mdisplay\u001b[0m\u001b[1;33m(\u001b[0m\u001b[1;33m)\u001b[0m\u001b[1;33m\u001b[0m\u001b[1;33m\u001b[0m\u001b[0m\n",
      "\u001b[1;31mTypeError\u001b[0m: __init__() missing 1 required positional argument: 'a'"
     ]
    }
   ],
   "source": [
    "# Instance variable I\n",
    "# What will be output for the folllowing code?\n",
    "\n",
    "class test:\n",
    "    def __init__(self,a):\n",
    "        self.a=a\n",
    "    def display(self):\n",
    "        print(self.a)\n",
    "obj=test()\n",
    "obj.display()\n",
    "\n",
    "# Runs normally, doesn’t display anything\n",
    "# Displays 0, which is the automatic default value\n",
    "# Error as one argument is required while creating the object--CORRECT\n",
    "# Error as display function requires additional argument"
   ]
  },
  {
   "cell_type": "code",
   "execution_count": 6,
   "metadata": {},
   "outputs": [
    {
     "name": "stdout",
     "output_type": "stream",
     "text": [
      "Sally\n"
     ]
    }
   ],
   "source": [
    "# Instance variable II\n",
    "# Which of the following statements is incorrect about the following code?\n",
    "\n",
    "class People():\n",
    "\n",
    "\n",
    "  def __init__(self, name):\n",
    "\n",
    "    self.name = name\n",
    "\n",
    "\n",
    "  def namePrint(self):\n",
    "\n",
    "    print(self.name)\n",
    "\n",
    "\n",
    "person1 = People(\"Sally\")\n",
    "\n",
    "person2 = People(\"Louise\")\n",
    "\n",
    "person1.namePrint()\n",
    "\n",
    "# person1 and person2 are two different instances of the People class.\n",
    "# The __init__ method is used to set initial values for attributes.\n",
    "# 'self' is not needed in def namePrint(self)-->CORRECT\n",
    "# person2 has a different value for 'name' than person1."
   ]
  },
  {
   "cell_type": "code",
   "execution_count": null,
   "metadata": {},
   "outputs": [],
   "source": [
    "# Instance variable III\n",
    "\n",
    "# _________ is not a keyword, but by convention it is used to refer to the current instance (object) of a class.\n",
    "\n",
    "#self"
   ]
  },
  {
   "cell_type": "code",
   "execution_count": 7,
   "metadata": {},
   "outputs": [
    {
     "name": "stdout",
     "output_type": "stream",
     "text": [
      "John\n"
     ]
    }
   ],
   "source": [
    "# Instance Methods\n",
    "# What will be the output of the following code snippet?\n",
    "\n",
    "class People():\n",
    "    def __init__(self, name):\n",
    "        self.name = name\n",
    "\n",
    "    def get_name(self):\n",
    "        print(self.name)\n",
    "\n",
    "person1 = People(\"John\")\n",
    "person2 = People(\"Mary\")\n",
    "person1.get_name()"
   ]
  },
  {
   "cell_type": "code",
   "execution_count": null,
   "metadata": {},
   "outputs": [],
   "source": [
    "# Time conversion\n",
    "# In the timeConv function, Create a Spanoftime class and initialize it with hours and mins.\n",
    "# 1. Make a method addTime which should take two Spanoftime objects and add them. \n",
    "# E.g.- (2 hour and 50 min)+(1 hr and 20 min) is (4 hr and 10 min)\n",
    "# 2. Make a method returnMinute which should return total minutes in the Spanoftime objects t1 and t2.\n",
    "# E.g.- (1 hr 2 min and 1 hr 2 min) should return 124 minute.\n",
    "\n",
    "# Input Format:\n",
    "# The number of testcases.\n",
    "# For each testcase, 4 lines will be the input which will be the hours and minutes for Spanoftime t1 and t2 respectively.  \n",
    "# Output Format:\n",
    "# For each testcase there will be two lines of output.\n",
    "# First-line will be the total Spanoftime after adding Spanoftime t1 and t2 i.e. x hours and y min.\n",
    "# Second-line will be the total number of minutes after adding Spanoftime t1 and t2. \n",
    "# Sample Input:\n",
    "\n",
    "# 1\n",
    "# 1\n",
    "# 1\n",
    "# 1\n",
    "# 1\n",
    "# Sample Output:\n",
    "# 2 hours and 2 min \n",
    "# The total minutes in Spanoftime t1 and t2 are: 122\n",
    "# Note:\n",
    "# You are just required to complete the functions and return the asked requirements.\n",
    "# Codes for taking input and output are already taken care of.\n",
    "# Input for hours and minutes are always positive integers in this question.\n",
    "# The format of the output of addTime should always be such that mins<60 and the extra number of\n",
    "# minutes should be adjusted with hours. But it's not the case with input, they could be like 0 hrs 200 mins"
   ]
  },
  {
   "cell_type": "code",
   "execution_count": null,
   "metadata": {},
   "outputs": [],
   "source": [
    "def timeConv(a,b,c,d):\n",
    "    # YOUR CODE GOES HERE\n",
    "    # The code for taking input and printing output is already taken care of.\n",
    "    # Make sure to complete the functions and return the asked requirements.\n",
    "    class Spanoftime:\n",
    "        #question issue ..solution is correct\n",
    "    #     def __init__(self,h,m):\n",
    "    #         self.hours=h\n",
    "    #         self.mins=m\n",
    "    #     def displayTime(self):\n",
    "    #         return (\"{} hours and {} min\".format(self.hours,self.mins))\n",
    "        \n",
    "    #     def addTime(t1,t2):\n",
    "    #         t3=Spanoftime(0,0)\n",
    "    #         sum=t1.hours* 60+t1.mins+t2.hours*60+t2.mins\n",
    "    #         t3.hours=sum//60\n",
    "    #         t3.mins=sum%60 \n",
    "    #         # Complete the function\n",
    "    #         return t3\n",
    "    #     def returnMinutes(t1,t2):\n",
    "    #         # Return the total number of minutes\n",
    "    #         sum=t1.hours* 60+t1.mins+t2.hours*60+t2.mins\n",
    "    #         return sum\n",
    "        \n",
    "    # t1=Spanoftime(a,b)\n",
    "    # t2=Spanoftime(c,d)\n",
    "    # t3=Spanoftime.addTime(t1,t2)\n",
    "    # t3.displayTime()\n",
    "    # totalmin=str(Spanoftime.returnMinutes(t1,t2))\n",
    "    # return t3.displayTime(),(\"The total minutes in time t1 and t2 are: \" + totalmin)\n",
    "\n",
    "\n",
    "        #solution by TA\n",
    "        def __init__(self,h,m):\n",
    "            self.hours=h\n",
    "            self.mins=m\n",
    "        def displayTime(self):\n",
    "            return (\"{} hours and {} min\".format(self.hours,self.mins))\n",
    "       \n",
    "        def addTime(t1,t2):\n",
    "            t3=Spanoftime(0,0)\n",
    "            if (t1.mins+t2.mins>60) or (t1.mins+t2.mins==60):\n",
    "                t3.hours=(t1.mins+t2.mins)//60\n",
    "            t3.hours=t3.hours+t1.hours+t2.hours\n",
    "            t3.mins=(t1.mins+t2.mins)-(((t1.mins+t2.mins)//60)*60)\n",
    "            return t3\n",
    "        def returnMinutes(t1,t2):\n",
    "            return (t1.hours*60 + t1.mins + t2.hours*60 + t2.mins)\n",
    "            # Return the total number of minutes\n",
    "       \n",
    "    t1=Spanoftime(a,b)\n",
    "    t2=Spanoftime(c,d)\n",
    "    t3=Spanoftime.addTime(t1,t2)\n",
    "    t3.displayTime()\n",
    "    totalmin=str(Spanoftime.returnMinutes(t1,t2))\n",
    "    return t3.displayTime(),(\"The total minutes in time t1 and t2 are:  \"+totalmin)"
   ]
  }
 ],
 "metadata": {
  "kernelspec": {
   "display_name": "Python 3",
   "language": "python",
   "name": "python3"
  },
  "language_info": {
   "codemirror_mode": {
    "name": "ipython",
    "version": 3
   },
   "file_extension": ".py",
   "mimetype": "text/x-python",
   "name": "python",
   "nbconvert_exporter": "python",
   "pygments_lexer": "ipython3",
   "version": "3.8.5"
  }
 },
 "nbformat": 4,
 "nbformat_minor": 4
}
