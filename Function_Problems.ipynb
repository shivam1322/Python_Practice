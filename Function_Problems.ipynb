{
 "cells": [
  {
   "cell_type": "code",
   "execution_count": null,
   "metadata": {},
   "outputs": [],
   "source": [
    "#Given a number A. Return 1 if it is perfect square otherwise return 0."
   ]
  },
  {
   "cell_type": "code",
   "execution_count": null,
   "metadata": {},
   "outputs": [],
   "source": [
    "def issquare(num):\n",
    "    ans  = None\n",
    "    c=int(num**0.5)\n",
    "    if (c*c==num):\n",
    "        ans=1\n",
    "    else:\n",
    "        ans=0"
   ]
  },
  {
   "cell_type": "code",
   "execution_count": null,
   "metadata": {},
   "outputs": [],
   "source": [
    "Given a number A. Return square root of the number if it is perfect square otherwise return -1."
   ]
  },
  {
   "cell_type": "code",
   "execution_count": null,
   "metadata": {},
   "outputs": [],
   "source": [
    "def solve(self, A):\n",
    "    from math import sqrt\n",
    "    Asqrt=int(sqrt(A))\n",
    "    if Asqrt*Asqrt==A:\n",
    "        return Asqrt\n",
    "    else:\n",
    "        return -1"
   ]
  },
  {
   "cell_type": "code",
   "execution_count": null,
   "metadata": {},
   "outputs": [],
   "source": [
    "def solve(self, A):\n",
    "    from math import pi,ceil\n",
    "    return ceil(pi*A*A)"
   ]
  },
  {
   "cell_type": "code",
   "execution_count": null,
   "metadata": {},
   "outputs": [],
   "source": [
    "#You are given an integer A, You have to tell whether it is a perfect cube or not."
   ]
  },
  {
   "cell_type": "code",
   "execution_count": null,
   "metadata": {},
   "outputs": [],
   "source": [
    "def isPerfectCube(self, A):\n",
    "        cuberoot=round(A**(1/3))\n",
    "        if (cuberoot**3)==A:\n",
    "            return 1\n",
    "        else:\n",
    "            return 0"
   ]
  }
 ],
 "metadata": {
  "kernelspec": {
   "display_name": "Python 3",
   "language": "python",
   "name": "python3"
  },
  "language_info": {
   "codemirror_mode": {
    "name": "ipython",
    "version": 3
   },
   "file_extension": ".py",
   "mimetype": "text/x-python",
   "name": "python",
   "nbconvert_exporter": "python",
   "pygments_lexer": "ipython3",
   "version": "3.8.5"
  }
 },
 "nbformat": 4,
 "nbformat_minor": 4
}
