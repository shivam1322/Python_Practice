{
 "cells": [
  {
   "cell_type": "code",
   "execution_count": null,
   "metadata": {},
   "outputs": [],
   "source": [
    "# Write a program to print all negative numbers from input array A of size N where you have to take integer N and \n",
    "# further N elements as input from user.\n",
    "\n",
    "# Input Format\n",
    "# A single line representing N followed by N integers of the array A\n",
    "\n",
    "# Output Format\n",
    "# A single line containing elements from the input array which are negative in the same order.\n",
    "\n",
    "# Example Input\n",
    "# Input 1:\n",
    "# 5 1 -5 2 -8 -4\n",
    "# Input 2:\n",
    "# 4 -1 0 -8 -1\n",
    "\n",
    "# Example Output\n",
    "# Output 1:\n",
    "# -5 -8 -4\n",
    "# Output 2:\n",
    "# -1 -8 -1"
   ]
  },
  {
   "cell_type": "code",
   "execution_count": null,
   "metadata": {},
   "outputs": [],
   "source": [
    "# basically you don't need to consider size now\n",
    "# you just take all elements present in list and first element would give you the size\n",
    "    lis1 = list(map(int,input().split()[1:]))\n",
    "    for i in lis1:\n",
    "        if i<0:\n",
    "            print(i,end=' ')"
   ]
  }
 ],
 "metadata": {
  "kernelspec": {
   "display_name": "Python 3",
   "language": "python",
   "name": "python3"
  },
  "language_info": {
   "codemirror_mode": {
    "name": "ipython",
    "version": 3
   },
   "file_extension": ".py",
   "mimetype": "text/x-python",
   "name": "python",
   "nbconvert_exporter": "python",
   "pygments_lexer": "ipython3",
   "version": "3.8.5"
  }
 },
 "nbformat": 4,
 "nbformat_minor": 4
}
