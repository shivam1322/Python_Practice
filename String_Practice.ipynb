{
 "cells": [
  {
   "cell_type": "code",
   "execution_count": null,
   "metadata": {},
   "outputs": [],
   "source": [
    "# You are given a character string A. You to trim(remove) both leading and trailing asterisk characters('*')\n",
    "# in the string and return the resultant string.\n",
    "# Input 1:\n",
    "# A = \"**h*e*l*lo*\"\n",
    "# Output 1:\n",
    "# h*e*l*l*o\n"
   ]
  },
  {
   "cell_type": "code",
   "execution_count": null,
   "metadata": {},
   "outputs": [],
   "source": [
    "return A.strip('*')"
   ]
  },
  {
   "cell_type": "code",
   "execution_count": null,
   "metadata": {},
   "outputs": [],
   "source": [
    "# Write a program to input T strings (S) from user and print 1 if it is palindrome otherwise print 0.\n",
    "# NOTE:A string is palindrome if it reads the same from backward as from forward."
   ]
  },
  {
   "cell_type": "code",
   "execution_count": null,
   "metadata": {},
   "outputs": [],
   "source": [
    "tc=int(input())\n",
    "for i in range(tc):\n",
    "    s=input()\n",
    "    rev=s[::-1]\n",
    "    if rev==s:\n",
    "        print('1')\n",
    "    else:\n",
    "        print('0')"
   ]
  },
  {
   "cell_type": "code",
   "execution_count": null,
   "metadata": {},
   "outputs": [],
   "source": [
    "# Write a program to reverse the words present in a string. Everything else should be preserved.\n",
    "# Check example input/output. Note: There are no punctuation and special characters in the string.\n",
    "# The string will only contain alphanumeric characters and spaces.\n",
    "# Example Input\n",
    "# Everyone loves data science\n",
    "\n",
    "# Example Output\n",
    "# enoyrevE sevol atad ecneics"
   ]
  },
  {
   "cell_type": "code",
   "execution_count": null,
   "metadata": {},
   "outputs": [],
   "source": [
    "s=input().split()\n",
    "for i in range(len(s)):\n",
    "    s[i]=s[i][::-1]\n",
    "result=' '.join(s)\n",
    "print(result)"
   ]
  },
  {
   "cell_type": "code",
   "execution_count": null,
   "metadata": {},
   "outputs": [],
   "source": [
    "# You are given two character strings A and B.\n",
    "# You have to find the first occurrence of string B in string A, as a substring, and return the starting position of \n",
    "# first occurrence.\n",
    "\n",
    "# Input 1:\n",
    "# A = \"aabababaa\"\n",
    "# B = \"ba\" \n",
    "# Input 2:\n",
    "# A = \"abc\"\n",
    "# B = \"ac\" \n",
    "\n",
    "# Example Output\n",
    "# Output 1:\n",
    "# 3 \n",
    "# Output 2:\n",
    "# -1 "
   ]
  },
  {
   "cell_type": "code",
   "execution_count": null,
   "metadata": {},
   "outputs": [],
   "source": [
    "def solve(self, A, B):\n",
    "    result=A.find(B)\n",
    "    if result>=0:\n",
    "        return result+1  #find function returns index starting from 0 but in question output expected+1\n",
    "    else:\n",
    "        return result #find returns-1 if B not available in A"
   ]
  },
  {
   "cell_type": "code",
   "execution_count": null,
   "metadata": {},
   "outputs": [],
   "source": [
    "# Python has built-in string validation methods for basic data. It can check if a string is composed of alphabetical \n",
    "# characters, alphanumeric characters, digits, etc.\n",
    "#https://www.hackerrank.com/challenges/string-validators/problem?isFullScreen=true\n",
    "\n",
    "# You are given a string .\n",
    "# Your task is to find out if the string  contains: alphanumeric characters, alphabetical characters, digits,\n",
    "# lowercase and uppercase characters.\n",
    "\n",
    "# Input Format\n",
    "# A single line containing a string .\n",
    "\n",
    "# Output Format\n",
    "\n",
    "# In the first line, print True if  has any alphanumeric characters. Otherwise, print False.\n",
    "# In the second line, print True if  has any alphabetical characters. Otherwise, print False.\n",
    "# In the third line, print True if  has any digits. Otherwise, print False.\n",
    "# In the fourth line, print True if  has any lowercase characters. Otherwise, print False.\n",
    "# In the fifth line, print True if  has any uppercase characters. Otherwise, print False.\n",
    "\n",
    "# Sample Input\n",
    "\n",
    "# qA2\n",
    "# Sample Output\n",
    "# True\n",
    "# True\n",
    "# True\n",
    "# True\n",
    "# True"
   ]
  },
  {
   "cell_type": "code",
   "execution_count": null,
   "metadata": {},
   "outputs": [],
   "source": [
    "if __name__ == '__main__':\n",
    "    s = input()\n",
    "    print(any(i.isalnum() for i in s))\n",
    "    print(any(i.isalpha() for i in s))\n",
    "    print(any(i.isdigit() for i in s))\n",
    "    print(any(i.islower() for i in s))\n",
    "    print(any(i.isupper() for i in s))\n",
    "    # alnum1=s.isalnum()"
   ]
  }
 ],
 "metadata": {
  "kernelspec": {
   "display_name": "Python 3",
   "language": "python",
   "name": "python3"
  },
  "language_info": {
   "codemirror_mode": {
    "name": "ipython",
    "version": 3
   },
   "file_extension": ".py",
   "mimetype": "text/x-python",
   "name": "python",
   "nbconvert_exporter": "python",
   "pygments_lexer": "ipython3",
   "version": "3.8.5"
  }
 },
 "nbformat": 4,
 "nbformat_minor": 4
}
