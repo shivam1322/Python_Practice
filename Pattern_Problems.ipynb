{
 "cells": [
  {
   "cell_type": "code",
   "execution_count": 1,
   "metadata": {},
   "outputs": [],
   "source": [
    "# Input 1:\n",
    "#  2\n",
    "# Input 2:\n",
    "#  3\n",
    "\n",
    "# Example Output\n",
    "# Output 1:\n",
    "# 0 1 0\n",
    "# 2 3 2\n",
    "\n",
    "# Output 2:\n",
    "# 0 0 1 0 0\n",
    "# 0 2 3 2 0\n",
    "# 3 4 5 4 3"
   ]
  },
  {
   "cell_type": "code",
   "execution_count": 22,
   "metadata": {},
   "outputs": [
    {
     "name": "stdout",
     "output_type": "stream",
     "text": [
      "3\n",
      "00100\n",
      "02320\n",
      "34543\n"
     ]
    }
   ],
   "source": [
    "n=int(input())\n",
    "for i in range(1,n+1):\n",
    "    count=0\n",
    "    count1=0\n",
    "    for t in range(1,(n-i)+1):\n",
    "        print('0',end='')\n",
    "    for j in range(1,i+1):\n",
    "        print(count+i,end='')\n",
    "        z=count+i\n",
    "        count+=1\n",
    "        \n",
    "    for p in range(i-1,0,-1):\n",
    "        print(z-1,end='')\n",
    "        z-=1\n",
    "        \n",
    "    for t in range(1,(n-i)+1):\n",
    "        print('0',end='')\n",
    "        \n",
    "    print()"
   ]
  },
  {
   "cell_type": "code",
   "execution_count": 2,
   "metadata": {},
   "outputs": [
    {
     "name": "stdout",
     "output_type": "stream",
     "text": [
      "3\n",
      "0 0 1 0 0 \n",
      "0 2 3 2 0 \n",
      "3 4 5 4 3 \n"
     ]
    }
   ],
   "source": [
    "n = int(input())\n",
    "count = 0\n",
    "count1 = 0\n",
    "k = 0\n",
    "for i in range(1, n + 1):\n",
    "    for p in range(1, (n - i) + 1):\n",
    "        print('0', end=' ')\n",
    "        count += 1\n",
    "    while k < ((2 * i) - 1):\n",
    "        if count <= (n - 1):\n",
    "            print(i + k, end=' ')\n",
    "            count += 1\n",
    "            k = k + 1\n",
    "        else:\n",
    "            count1 = count1 + 1\n",
    "            print(i + k - (2 * count1), end=' ')\n",
    "            k = k + 1\n",
    "    for p in range(1, (n - i) + 1):\n",
    "            print('0', end=' ')\n",
    "    print()\n",
    "    k = count = count1 = 0"
   ]
  },
  {
   "cell_type": "code",
   "execution_count": 3,
   "metadata": {},
   "outputs": [
    {
     "name": "stdout",
     "output_type": "stream",
     "text": [
      "5\n",
      "A \n",
      "A B \n",
      "A B C \n",
      "A B C D \n",
      "A B C D E \n"
     ]
    }
   ],
   "source": [
    "n=int(input())\n",
    "for i in range(1,n+1):\n",
    "    t=ord('A')\n",
    "    for p in range(1,i+1):\n",
    "        print(chr(t),end=' ')\n",
    "        t=t+1\n",
    "    print()"
   ]
  },
  {
   "cell_type": "code",
   "execution_count": 8,
   "metadata": {},
   "outputs": [
    {
     "name": "stdout",
     "output_type": "stream",
     "text": [
      "4\n",
      "   *\n",
      "  ***\n",
      " *****\n",
      "*******\n"
     ]
    }
   ],
   "source": [
    "n=int(input())\n",
    "for i in range(1,n+1):\n",
    "    k=0\n",
    "    for t in range(1,n-i+1):\n",
    "        print(' ',end='')\n",
    "    while k<((2*i)-1):\n",
    "        print('*',end='')\n",
    "        k=k+1\n",
    "    print()"
   ]
  },
  {
   "cell_type": "code",
   "execution_count": 9,
   "metadata": {},
   "outputs": [
    {
     "name": "stdout",
     "output_type": "stream",
     "text": [
      "3\n",
      "  1\n",
      " 121\n",
      "12321\n"
     ]
    }
   ],
   "source": [
    "n=int(input())\n",
    "\n",
    "for i in range(1,n+1):\n",
    "    for t in range(1,(n-i)+1):\n",
    "        print(' ',end='')\n",
    "    for j in range(1,i+1):\n",
    "        print(j,end='')\n",
    "    for p in range(i-1,0,-1):\n",
    "        print(p,end='')\n",
    "    print()\n",
    "        \n",
    "\n",
    "        \n",
    "        "
   ]
  },
  {
   "cell_type": "code",
   "execution_count": null,
   "metadata": {},
   "outputs": [],
   "source": []
  }
 ],
 "metadata": {
  "kernelspec": {
   "display_name": "Python 3",
   "language": "python",
   "name": "python3"
  },
  "language_info": {
   "codemirror_mode": {
    "name": "ipython",
    "version": 3
   },
   "file_extension": ".py",
   "mimetype": "text/x-python",
   "name": "python",
   "nbconvert_exporter": "python",
   "pygments_lexer": "ipython3",
   "version": "3.8.5"
  }
 },
 "nbformat": 4,
 "nbformat_minor": 4
}
