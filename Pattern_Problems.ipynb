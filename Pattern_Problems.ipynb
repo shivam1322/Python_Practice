{
 "cells": [
  {
   "cell_type": "code",
   "execution_count": 1,
   "metadata": {},
   "outputs": [],
   "source": [
    "# Input 1:\n",
    "#  2\n",
    "# Input 2:\n",
    "#  3\n",
    "\n",
    "# Example Output\n",
    "# Output 1:\n",
    "# 0 1 0\n",
    "# 2 3 2\n",
    "\n",
    "# Output 2:\n",
    "# 0 0 1 0 0\n",
    "# 0 2 3 2 0\n",
    "# 3 4 5 4 3"
   ]
  },
  {
   "cell_type": "code",
   "execution_count": 22,
   "metadata": {},
   "outputs": [
    {
     "name": "stdout",
     "output_type": "stream",
     "text": [
      "3\n",
      "00100\n",
      "02320\n",
      "34543\n"
     ]
    }
   ],
   "source": [
    "n=int(input())\n",
    "for i in range(1,n+1):\n",
    "    count=0\n",
    "    count1=0\n",
    "    for t in range(1,(n-i)+1):\n",
    "        print('0',end='')\n",
    "    for j in range(1,i+1):\n",
    "        print(count+i,end='')\n",
    "        z=count+i\n",
    "        count+=1\n",
    "        \n",
    "    for p in range(i-1,0,-1):\n",
    "        print(z-1,end='')\n",
    "        z-=1\n",
    "        \n",
    "    for t in range(1,(n-i)+1):\n",
    "        print('0',end='')\n",
    "        \n",
    "    print()"
   ]
  },
  {
   "cell_type": "code",
   "execution_count": 2,
   "metadata": {},
   "outputs": [
    {
     "name": "stdout",
     "output_type": "stream",
     "text": [
      "3\n",
      "0 0 1 0 0 \n",
      "0 2 3 2 0 \n",
      "3 4 5 4 3 \n"
     ]
    }
   ],
   "source": [
    "n = int(input())\n",
    "count = 0\n",
    "count1 = 0\n",
    "k = 0\n",
    "for i in range(1, n + 1):\n",
    "    for p in range(1, (n - i) + 1):\n",
    "        print('0', end=' ')\n",
    "        count += 1\n",
    "    while k < ((2 * i) - 1):\n",
    "        if count <= (n - 1):\n",
    "            print(i + k, end=' ')\n",
    "            count += 1\n",
    "            k = k + 1\n",
    "        else:\n",
    "            count1 = count1 + 1\n",
    "            print(i + k - (2 * count1), end=' ')\n",
    "            k = k + 1\n",
    "    for p in range(1, (n - i) + 1):\n",
    "            print('0', end=' ')\n",
    "    print()\n",
    "    k = count = count1 = 0"
   ]
  },
  {
   "cell_type": "code",
   "execution_count": 3,
   "metadata": {},
   "outputs": [
    {
     "name": "stdout",
     "output_type": "stream",
     "text": [
      "5\n",
      "A \n",
      "A B \n",
      "A B C \n",
      "A B C D \n",
      "A B C D E \n"
     ]
    }
   ],
   "source": [
    "n=int(input())\n",
    "for i in range(1,n+1):\n",
    "    t=ord('A')\n",
    "    for p in range(1,i+1):\n",
    "        print(chr(t),end=' ')\n",
    "        t=t+1\n",
    "    print()"
   ]
  },
  {
   "cell_type": "code",
   "execution_count": 8,
   "metadata": {},
   "outputs": [
    {
     "name": "stdout",
     "output_type": "stream",
     "text": [
      "4\n",
      "   *\n",
      "  ***\n",
      " *****\n",
      "*******\n"
     ]
    }
   ],
   "source": [
    "n=int(input())\n",
    "for i in range(1,n+1):\n",
    "    k=0\n",
    "    for t in range(1,n-i+1):\n",
    "        print(' ',end='')\n",
    "    while k<((2*i)-1):\n",
    "        print('*',end='')\n",
    "        k=k+1\n",
    "    print()"
   ]
  },
  {
   "cell_type": "code",
   "execution_count": 9,
   "metadata": {},
   "outputs": [
    {
     "name": "stdout",
     "output_type": "stream",
     "text": [
      "3\n",
      "  1\n",
      " 121\n",
      "12321\n"
     ]
    }
   ],
   "source": [
    "n=int(input())\n",
    "\n",
    "for i in range(1,n+1):\n",
    "    for t in range(1,(n-i)+1):\n",
    "        print(' ',end='')\n",
    "    for j in range(1,i+1):\n",
    "        print(j,end='')\n",
    "    for p in range(i-1,0,-1):\n",
    "        print(p,end='')\n",
    "    print()\n",
    "        \n",
    "\n",
    "        \n",
    "        "
   ]
  },
  {
   "cell_type": "code",
   "execution_count": null,
   "metadata": {},
   "outputs": [],
   "source": [
    "# Example 1: Program to print half pyramid using *\n",
    "# *\n",
    "# * *\n",
    "# * * *\n",
    "# * * * *\n",
    "# * * * * *"
   ]
  },
  {
   "cell_type": "code",
   "execution_count": 3,
   "metadata": {},
   "outputs": [
    {
     "name": "stdout",
     "output_type": "stream",
     "text": [
      "* \n",
      "* * \n",
      "* * * \n",
      "* * * * \n",
      "* * * * * \n"
     ]
    }
   ],
   "source": [
    "n=5\n",
    "for i in range(1,n+1):\n",
    "    for j in range(1,i+1):\n",
    "        print('*',end=' ')\n",
    "    print()"
   ]
  },
  {
   "cell_type": "code",
   "execution_count": null,
   "metadata": {},
   "outputs": [],
   "source": [
    "# Example 2: Program to print half pyramid a using numbers\n",
    "# 1\n",
    "# 1 2\n",
    "# 1 2 3\n",
    "# 1 2 3 4\n",
    "# 1 2 3 4 5"
   ]
  },
  {
   "cell_type": "code",
   "execution_count": 5,
   "metadata": {},
   "outputs": [
    {
     "name": "stdout",
     "output_type": "stream",
     "text": [
      "1 \n",
      "1 2 \n",
      "1 2 3 \n",
      "1 2 3 4 \n",
      "1 2 3 4 5 \n"
     ]
    }
   ],
   "source": [
    "n=5\n",
    "for i in range(1,n+1):\n",
    "    for j in range(1,i+1):\n",
    "        print(j,end=' ')\n",
    "    print()"
   ]
  },
  {
   "cell_type": "code",
   "execution_count": null,
   "metadata": {},
   "outputs": [],
   "source": [
    "# Example 3: Program to print half pyramid using alphabets\n",
    "# A\n",
    "# B B\n",
    "# C C C\n",
    "# D D D D\n",
    "# E E E E E"
   ]
  },
  {
   "cell_type": "code",
   "execution_count": 12,
   "metadata": {},
   "outputs": [
    {
     "name": "stdout",
     "output_type": "stream",
     "text": [
      "A \n",
      "B B \n",
      "C C C \n",
      "D D D D \n",
      "E E E E E \n"
     ]
    }
   ],
   "source": [
    "n=5\n",
    "p=ord('A')\n",
    "for i in range(1,n+1):\n",
    "    for j in range(1,i+1):\n",
    "        print(chr(p),end=' ')\n",
    "    p=p+1\n",
    "    print()\n",
    "    \n",
    "        "
   ]
  },
  {
   "cell_type": "code",
   "execution_count": null,
   "metadata": {},
   "outputs": [],
   "source": [
    "# Programs to print inverted half pyramid using * and numbers\n",
    "# Example 4: Inverted half pyramid using *\n",
    "# * * * * *\n",
    "# * * * *\n",
    "# * * *\n",
    "# * *\n",
    "# *"
   ]
  },
  {
   "cell_type": "code",
   "execution_count": 13,
   "metadata": {},
   "outputs": [
    {
     "name": "stdout",
     "output_type": "stream",
     "text": [
      "* * * * * \n",
      "* * * * \n",
      "* * * \n",
      "* * \n",
      "* \n"
     ]
    }
   ],
   "source": [
    "n=5\n",
    "for i in range(n,0,-1):\n",
    "    for j in range(1,i+1):\n",
    "        print('*',end=' ')\n",
    "    print()\n",
    "    "
   ]
  },
  {
   "cell_type": "code",
   "execution_count": null,
   "metadata": {},
   "outputs": [],
   "source": [
    "# Example 5: Inverted half pyramid using numbers\n",
    "# 1 2 3 4 5\n",
    "# 1 2 3 4\n",
    "# 1 2 3\n",
    "# 1 2\n",
    "# 1"
   ]
  },
  {
   "cell_type": "code",
   "execution_count": 14,
   "metadata": {},
   "outputs": [
    {
     "name": "stdout",
     "output_type": "stream",
     "text": [
      "1 2 3 4 5 \n",
      "1 2 3 4 \n",
      "1 2 3 \n",
      "1 2 \n",
      "1 \n"
     ]
    }
   ],
   "source": [
    "n=5\n",
    "for i in range(n,0,-1):\n",
    "    for j in range(1,i+1):\n",
    "        print(j,end=' ')\n",
    "    print()\n",
    "        "
   ]
  },
  {
   "cell_type": "code",
   "execution_count": null,
   "metadata": {},
   "outputs": [],
   "source": [
    "# Programs to print full pyramids\n",
    "# Example 6: Program to print full pyramid using *\n",
    "#         *\n",
    "#       * * *\n",
    "#     * * * * *\n",
    "#   * * * * * * *\n",
    "# * * * * * * * * *"
   ]
  },
  {
   "cell_type": "code",
   "execution_count": 15,
   "metadata": {},
   "outputs": [
    {
     "name": "stdout",
     "output_type": "stream",
     "text": [
      "5\n",
      "        * \n",
      "      * * * \n",
      "    * * * * * \n",
      "  * * * * * * * \n",
      "* * * * * * * * * \n"
     ]
    }
   ],
   "source": [
    "n=int(input())\n",
    "for i in range(1,n+1):\n",
    "    for j in range(1,(n-i)+1):\n",
    "        print(' ',end=' ')\n",
    "    for k in range(i):\n",
    "        print('*',end=' ')\n",
    "    for t in range(1,i):\n",
    "        print('*',end=' ')\n",
    "    print()"
   ]
  },
  {
   "cell_type": "code",
   "execution_count": null,
   "metadata": {},
   "outputs": [],
   "source": [
    "# Example 7: Full Pyramid of Numbers\n",
    "#         1 \n",
    "#       2 3 2 \n",
    "#     3 4 5 4 3 \n",
    "#   4 5 6 7 6 5 4 \n",
    "# 5 6 7 8 9 8 7 6 5"
   ]
  },
  {
   "cell_type": "code",
   "execution_count": 16,
   "metadata": {},
   "outputs": [
    {
     "name": "stdout",
     "output_type": "stream",
     "text": [
      "5\n",
      "        1 \n",
      "      2 3 2 \n",
      "    3 4 5 4 3 \n",
      "  4 5 6 7 6 5 4 \n",
      "5 6 7 8 9 8 7 6 5 \n"
     ]
    }
   ],
   "source": [
    "n=int(input())\n",
    "for i in range(1,n+1):\n",
    "    p=i\n",
    "    for j in range(1,(n-i)+1):\n",
    "        print(' ',end=' ')\n",
    "    for k in range(1,i+1):\n",
    "        print(p,end=' ')\n",
    "        p+=1\n",
    "    for t in range(i-1):\n",
    "        print(p-2,end=' ')\n",
    "        p-=1\n",
    "    print()\n",
    "    "
   ]
  },
  {
   "cell_type": "code",
   "execution_count": null,
   "metadata": {},
   "outputs": [],
   "source": [
    "# Example 8: Inverted full pyramid of *\n",
    "# * * * * * * * * *\n",
    "#   * * * * * * *\n",
    "#     * * * * *\n",
    "#       * * *\n",
    "#         *"
   ]
  },
  {
   "cell_type": "code",
   "execution_count": 21,
   "metadata": {},
   "outputs": [
    {
     "name": "stdout",
     "output_type": "stream",
     "text": [
      "5\n",
      "* * * * * * * * * \n",
      "  * * * * * * * \n",
      "    * * * * * \n",
      "      * * * \n",
      "        * \n"
     ]
    }
   ],
   "source": [
    "n=int(input())\n",
    "t=n+1\n",
    "for i in range(1,n+1):\n",
    "    t=t-1\n",
    "    for j in range(i-1):\n",
    "        print(' ',end=' ')\n",
    "    for k in range(1,2*t):\n",
    "        print('*',end=' ')\n",
    "    print()"
   ]
  },
  {
   "cell_type": "code",
   "execution_count": null,
   "metadata": {},
   "outputs": [],
   "source": [
    "# Example 9: Pascal's Triangle\n",
    "#            1\n",
    "#          1   1\n",
    "#        1   2   1\n",
    "#      1   3   3    1\n",
    "#    1  4    6   4   1\n",
    "#  1  5   10   10  5   1\n",
    "\n",
    "# After using nCr formula, the pictorial representation becomes:\n",
    "\n",
    "#           0C0\n",
    "#        1C0   1C1\n",
    "#     2C0   2C1   2C2\n",
    "#  3C0   3C1   3C2    3C3"
   ]
  },
  {
   "cell_type": "code",
   "execution_count": 29,
   "metadata": {},
   "outputs": [
    {
     "name": "stdout",
     "output_type": "stream",
     "text": [
      "5\n",
      "      1 \n",
      "     1 1 \n",
      "    1 2 1 \n",
      "   1 3 3 1 \n",
      "  1 4 6 4 1 \n"
     ]
    }
   ],
   "source": [
    "from math import factorial\n",
    "n=int(input())\n",
    "for i in range(n):\n",
    "    for j in range(n-i+1):\n",
    "        print(' ',end='')\n",
    "    for k in range(i+1):\n",
    "                # nCr = n!/((n-r)!*r!)\n",
    "        print(factorial(i)//(factorial(k)*factorial(i-k)), end=\" \")\n",
    " \n",
    "    # for new line\n",
    "    print()\n",
    "    "
   ]
  },
  {
   "cell_type": "code",
   "execution_count": 28,
   "metadata": {},
   "outputs": [
    {
     "name": "stdout",
     "output_type": "stream",
     "text": [
      "      1 \n",
      "     1 1 \n",
      "    1 2 1 \n",
      "   1 3 3 1 \n",
      "  1 4 6 4 1 \n"
     ]
    }
   ],
   "source": [
    "n = 5\n",
    "for i in range(n):\n",
    "    for j in range(n - i + 1):\n",
    "        # for left spacing\n",
    "        print(end=\" \")\n",
    "\n",
    "    for j in range(i + 1):\n",
    "        # nCr = n!/((n-r)!*r!)\n",
    "        print(factorial(i) // (factorial(j) * factorial(i - j)), end=\" \")\n",
    "\n",
    "    # for new line\n",
    "    print()"
   ]
  },
  {
   "cell_type": "code",
   "execution_count": null,
   "metadata": {},
   "outputs": [],
   "source": [
    "# Example 10: Floyd's Triangle\n",
    "# 1\n",
    "# 2 3\n",
    "# 4 5 6\n",
    "# 7 8 9 10"
   ]
  },
  {
   "cell_type": "code",
   "execution_count": 23,
   "metadata": {},
   "outputs": [
    {
     "name": "stdout",
     "output_type": "stream",
     "text": [
      "4\n",
      "1 \n",
      "2 3 \n",
      "4 5 6 \n",
      "7 8 9 10 \n"
     ]
    }
   ],
   "source": [
    "n=int(input())\n",
    "count=1\n",
    "for i in range(1,n+1):\n",
    "    for j in range(i):\n",
    "        print(count,end=' ')\n",
    "        count+=1\n",
    "    print()\n"
   ]
  },
  {
   "cell_type": "code",
   "execution_count": null,
   "metadata": {},
   "outputs": [],
   "source": []
  }
 ],
 "metadata": {
  "kernelspec": {
   "display_name": "Python 3",
   "language": "python",
   "name": "python3"
  },
  "language_info": {
   "codemirror_mode": {
    "name": "ipython",
    "version": 3
   },
   "file_extension": ".py",
   "mimetype": "text/x-python",
   "name": "python",
   "nbconvert_exporter": "python",
   "pygments_lexer": "ipython3",
   "version": "3.8.5"
  }
 },
 "nbformat": 4,
 "nbformat_minor": 4
}
