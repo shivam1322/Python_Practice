{
 "cells": [
  {
   "cell_type": "code",
   "execution_count": null,
   "metadata": {},
   "outputs": [],
   "source": [
    "# S(n) = F(n+2) – 1 —-(1)\n",
    "# In order to find S(n), simply calculate the (n+2)’th Fibonacci number and subtract 1 from the result.\n",
    "# F(n) can be evaluated in O(log n) time using this."
   ]
  },
  {
   "cell_type": "code",
   "execution_count": null,
   "metadata": {},
   "outputs": [],
   "source": [
    "a=0\n",
    "b=1\n",
    "mod=(10**9)+7\n",
    "for i in range(2, A):\n",
    "    next=(a+b)%mod\n",
    "    a=b\n",
    "    b=next\n",
    "    if A==1:\n",
    "        return a\n",
    "    else:\n",
    "        return b\n",
    "    \n",
    "    \n",
    "# a=0\n",
    "# b=1\n",
    "# if A==1:\n",
    "#     return 0\n",
    "# elif A==2:\n",
    "#     return 1\n",
    "# else:\n",
    "#     for i in range(2,A):\n",
    "#         sum=a+b\n",
    "#         a=b\n",
    "#         b=sum\n",
    "               \n",
    "#     return (sum)%((10**9)+7)\n",
    "\n",
    "#time complexity error . Try mod in logic\n",
    "\n",
    "\n",
    "fibs = [0, 1]\n",
    "        for i in range(2, A):\n",
    "            fibs.append(fibs[-1] + fibs[-2])\n",
    "        if A==1:\n",
    "            return 0\n",
    "        else:\n",
    "            return (fibs[-1])%((10**9)+7)\n",
    "        \n",
    "# Now its giving time limit exceeded because you are using list and appending numbers to it,\n",
    "# in alternative we can use 2 variable in which we are storing the prev 2 fibonacci numbers.\n",
    "\n",
    "# S(n) = F(n+2) – 1\n",
    "        \n",
    "# a=0\n",
    "# b=1\n",
    "# sum=0\n",
    "# for i in range(A-2):\n",
    "        sum=a+b\n",
    "        a=b\n",
    "        b=sum\n",
    "    return sum%(10**9+7)\n",
    "        "
   ]
  }
 ],
 "metadata": {
  "kernelspec": {
   "display_name": "Python 3",
   "language": "python",
   "name": "python3"
  },
  "language_info": {
   "codemirror_mode": {
    "name": "ipython",
    "version": 3
   },
   "file_extension": ".py",
   "mimetype": "text/x-python",
   "name": "python",
   "nbconvert_exporter": "python",
   "pygments_lexer": "ipython3",
   "version": "3.8.5"
  }
 },
 "nbformat": 4,
 "nbformat_minor": 4
}
